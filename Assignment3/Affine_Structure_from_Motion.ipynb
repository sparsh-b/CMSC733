{
  "nbformat": 4,
  "nbformat_minor": 0,
  "metadata": {
    "colab": {
      "provenance": []
    },
    "kernelspec": {
      "name": "python3",
      "display_name": "Python 3"
    },
    "language_info": {
      "name": "python"
    }
  },
  "cells": [
    {
      "cell_type": "markdown",
      "metadata": {
        "id": "pKARgqUEG9Nd"
      },
      "source": [
        "# Imports"
      ]
    },
    {
      "cell_type": "code",
      "execution_count": null,
      "metadata": {
        "id": "Cee3vAcLrOs0"
      },
      "outputs": [],
      "source": [
        "## Import necessary libraries here\n",
        "import os\n",
        "import random\n",
        "import cv2\n",
        "import numpy as np\n",
        "from scipy.io import loadmat\n",
        "import matplotlib.pyplot as plt\n",
        "from matplotlib import cm\n",
        "%matplotlib inline\n",
        "from google.colab.patches import cv2_imshow\n",
        "import itertools\n",
        "import copy\n",
        "from math import sqrt\n",
        "import math\n",
        "from scipy.linalg import sqrtm\n",
        "import plotly.graph_objects as go"
      ]
    },
    {
      "cell_type": "markdown",
      "metadata": {
        "id": "NVJf6O25JW2k"
      },
      "source": [
        "# Affine Structure from Motion"
      ]
    },
    {
      "cell_type": "markdown",
      "metadata": {
        "id": "SGgP6ygcJaqW"
      },
      "source": [
        "## Overview\n",
        "<img src=\"https://drive.google.com/file/d/145B7vkdfyIj8GqHh9rltyetgVt7T4cGi\" width=\"800\"/>\n",
        "\n",
        "- Given a sequence of images, corners are detected & their features are tracked \n",
        "[in this problem](https://colab.research.google.com/drive/1j4vIlUUfVCkMSonFKc_d83pfeOYqy288?usp=sharing).\n",
        "\n",
        "- The current problem of affine structure from motion involves recovering a 3D point cloud from an image sequence and the below are the steps involved:\n",
        "\n",
        "<img src=\"https://drive.google.com/file/d/1KQ2x8BywgzFUgXCcYriYM5bwwXtupY3i\" width=\"700\"/>\n"
      ]
    },
    {
      "cell_type": "markdown",
      "metadata": {
        "id": "YEdG0AQNK2DN"
      },
      "source": [
        "## Data\n",
        "\n",
        "**WARNING: Colab deletes all files everytime runtime is disconnected. Make sure to re-download the inputs when it happens.**"
      ]
    },
    {
      "cell_type": "code",
      "execution_count": null,
      "metadata": {
        "colab": {
          "base_uri": "https://localhost:8080/"
        },
        "id": "R0c9I8joK4bW",
        "outputId": "6eb958c1-bf38-417b-e191-8f6bbad6f0c1"
      },
      "outputs": [
        {
          "name": "stdout",
          "output_type": "stream",
          "text": [
            "Downloading...\n",
            "From: https://drive.google.com/uc?id=1A0Rin_YMmWkExjI99vfLYvU_dy-9gFTT\n",
            "To: /content/Part2_data.zip\n",
            "\r\n",
            "  0% 0.00/5.44M [00:00<?, ?B/s]\r\n",
            "100% 5.44M/5.44M [00:00<00:00, 254MB/s]\n",
            "Archive:  /content/Part2_data.zip\n",
            "   creating: /content/Part2_data/\n",
            "   creating: /content/Part2_data/images/\n",
            "  inflating: /content/Part2_data/images/hotel.seq0.png  \n",
            "  inflating: /content/Part2_data/images/hotel.seq1.png  \n",
            "  inflating: /content/Part2_data/images/hotel.seq10.png  \n",
            "  inflating: /content/Part2_data/images/hotel.seq11.png  \n",
            "  inflating: /content/Part2_data/images/hotel.seq12.png  \n",
            "  inflating: /content/Part2_data/images/hotel.seq13.png  \n",
            "  inflating: /content/Part2_data/images/hotel.seq14.png  \n",
            "  inflating: /content/Part2_data/images/hotel.seq15.png  \n",
            "  inflating: /content/Part2_data/images/hotel.seq16.png  \n",
            "  inflating: /content/Part2_data/images/hotel.seq17.png  \n",
            "  inflating: /content/Part2_data/images/hotel.seq18.png  \n",
            "  inflating: /content/Part2_data/images/hotel.seq19.png  \n",
            "  inflating: /content/Part2_data/images/hotel.seq2.png  \n",
            "  inflating: /content/Part2_data/images/hotel.seq20.png  \n",
            "  inflating: /content/Part2_data/images/hotel.seq21.png  \n",
            "  inflating: /content/Part2_data/images/hotel.seq22.png  \n",
            "  inflating: /content/Part2_data/images/hotel.seq23.png  \n",
            "  inflating: /content/Part2_data/images/hotel.seq24.png  \n",
            "  inflating: /content/Part2_data/images/hotel.seq25.png  \n",
            "  inflating: /content/Part2_data/images/hotel.seq26.png  \n",
            "  inflating: /content/Part2_data/images/hotel.seq27.png  \n",
            "  inflating: /content/Part2_data/images/hotel.seq28.png  \n",
            "  inflating: /content/Part2_data/images/hotel.seq29.png  \n",
            "  inflating: /content/Part2_data/images/hotel.seq3.png  \n",
            "  inflating: /content/Part2_data/images/hotel.seq30.png  \n",
            "  inflating: /content/Part2_data/images/hotel.seq31.png  \n",
            "  inflating: /content/Part2_data/images/hotel.seq32.png  \n",
            "  inflating: /content/Part2_data/images/hotel.seq33.png  \n",
            "  inflating: /content/Part2_data/images/hotel.seq34.png  \n",
            "  inflating: /content/Part2_data/images/hotel.seq35.png  \n",
            "  inflating: /content/Part2_data/images/hotel.seq36.png  \n",
            "  inflating: /content/Part2_data/images/hotel.seq37.png  \n",
            "  inflating: /content/Part2_data/images/hotel.seq38.png  \n",
            "  inflating: /content/Part2_data/images/hotel.seq39.png  \n",
            "  inflating: /content/Part2_data/images/hotel.seq4.png  \n",
            "  inflating: /content/Part2_data/images/hotel.seq40.png  \n",
            "  inflating: /content/Part2_data/images/hotel.seq41.png  \n",
            "  inflating: /content/Part2_data/images/hotel.seq42.png  \n",
            "  inflating: /content/Part2_data/images/hotel.seq43.png  \n",
            "  inflating: /content/Part2_data/images/hotel.seq44.png  \n",
            "  inflating: /content/Part2_data/images/hotel.seq45.png  \n",
            "  inflating: /content/Part2_data/images/hotel.seq46.png  \n",
            "  inflating: /content/Part2_data/images/hotel.seq47.png  \n",
            "  inflating: /content/Part2_data/images/hotel.seq48.png  \n",
            "  inflating: /content/Part2_data/images/hotel.seq49.png  \n",
            "  inflating: /content/Part2_data/images/hotel.seq5.png  \n",
            "  inflating: /content/Part2_data/images/hotel.seq50.png  \n",
            "  inflating: /content/Part2_data/images/hotel.seq6.png  \n",
            "  inflating: /content/Part2_data/images/hotel.seq7.png  \n",
            "  inflating: /content/Part2_data/images/hotel.seq8.png  \n",
            "  inflating: /content/Part2_data/images/hotel.seq9.png  \n",
            "  inflating: /content/Part2_data/tracks.mat  \n"
          ]
        }
      ],
      "source": [
        "# Download Data -- run this cell only one time per runtime\n",
        "!gdown 1A0Rin_YMmWkExjI99vfLYvU_dy-9gFTT\n",
        "!unzip \"/content/Part2_data.zip\" -d \"/content/\"\n",
        "# Load Matches\n",
        "data = loadmat('/content/Part2_data/tracks.mat')"
      ]
    },
    {
      "cell_type": "markdown",
      "metadata": {
        "id": "VzZskEHdNaxT"
      },
      "source": [
        "## Code"
      ]
    },
    {
      "cell_type": "code",
      "execution_count": null,
      "metadata": {
        "id": "Mo14ELnGNbIr"
      },
      "outputs": [],
      "source": [
        "track_x = data['track_x']\n",
        "track_y = data['track_y']\n",
        "\n",
        "D = np.block([[data['track_x'][:, i], data['track_y'][:, i]] for i in range(data['track_y'].shape[1])]).reshape((102, -1))\n",
        "# Remove the nan values (points which went out of frame)\n",
        "nans = np.isnan(D)\n",
        "keep_indices = []\n",
        "for i in range(D.shape[1]):\n",
        "  d_col = nans[:,i].tolist()\n",
        "  if not any(d_col):\n",
        "    keep_indices.append(i)\n",
        "track_x = track_x[keep_indices, :]\n",
        "track_y = track_y[keep_indices, :]\n",
        "\n",
        "def affineSFM(x, y):\n",
        "  '''\n",
        "  Function: Affine structure from motion algorithm\n",
        "  % Normalize x, y to zero mean\n",
        "  % Create measurement matrix\n",
        "  D = [xn' ; yn'];\n",
        "  % Decompose and enforce rank 3\n",
        "  % Apply orthographic constraints\n",
        "  '''\n",
        "  mean_x = np.mean(x, axis=0)\n",
        "  mean_y = np.mean(y, axis=0)\n",
        "  x -= mean_x\n",
        "  y -= mean_y\n",
        "  D = np.block([[x[:, i], y[:, i]] for i in range(y.shape[1])]).reshape((102, -1))\n",
        "  U, S, VT = np.linalg.svd(D)\n",
        "  U3 = U[:, :3]\n",
        "  S3 = np.diag(S[:3])\n",
        "  VT3 = VT[:3, :]\n",
        "  S3_sqrt = sqrtm(S3)\n",
        "  A_ = U3 @ S3_sqrt\n",
        "  X_ = S3_sqrt @ VT3\n",
        "  scalar_mat = []\n",
        "  for i in range(0, A_.shape[0], 2):\n",
        "    a1 =  A_[i]\n",
        "    a2 = A_[i+1]\n",
        "    block1 = (np.expand_dims(a1, axis=1) @ np.expand_dims(a1, axis=0)).reshape((1,9))\n",
        "    block2 = (np.expand_dims(a2, axis=1) @ np.expand_dims(a2, axis=0)).reshape((1,9))\n",
        "    block3 = (np.expand_dims(a1, axis=1) @ np.expand_dims(a2, axis=0)).reshape((1,9))\n",
        "    if i==0:\n",
        "      coeff_mat = block1\n",
        "    else:\n",
        "      coeff_mat = np.concatenate((coeff_mat, block1), axis=0)\n",
        "    coeff_mat = np.concatenate((coeff_mat, block2), axis=0)\n",
        "    coeff_mat = np.concatenate((coeff_mat, block3), axis=0)\n",
        "    scalar_mat += [1,1,0]\n",
        "  scalar_mat = np.array(scalar_mat)\n",
        "  least_sq = np.linalg.lstsq(coeff_mat, scalar_mat, rcond=None)\n",
        "  L = least_sq[0].reshape((3,3))\n",
        "  w, v = np.linalg.eig(L)\n",
        "  C = np.linalg.cholesky(L)\n",
        "  A = A_ @ C\n",
        "  X = np.linalg.inv(C) @ X_\n",
        "  return A, X\n",
        "\n",
        "def plot_structure(X):\n",
        "  fig = go.Figure(data=[go.Scatter3d(x=X[0, :], y=X[1, :], z=X[2, :], mode='markers',\n",
        "    marker=dict(size=3))])\n",
        "  fig.show()\n",
        "\n",
        "def plot_camera_motion(A):\n",
        "  for i in range(0, A.shape[0], 2):\n",
        "    position = np.cross(A[i], A[i+1])\n",
        "    mag = np.linalg.norm(position)\n",
        "    norm_position = position / mag\n",
        "    norm_position = np.expand_dims(norm_position, axis=0)\n",
        "    if i==0:\n",
        "      cam_motion = norm_position\n",
        "    else:\n",
        "      cam_motion = np.concatenate((cam_motion, norm_position), axis=0)\n",
        "  print(cam_motion.shape)\n",
        "  fig = go.Figure(data=[go.Scatter3d(x=cam_motion[:, 0], y=cam_motion[:, 1], z=cam_motion[:, 2], mode='markers',\n",
        "    marker=dict(size=3))])\n",
        "  # fig = go.Figure()\n",
        "  # fig.add_trace(go.Scatter(x=np.linspace(0, A.shape[0]/2, num=1+A.shape[0]//2), y=cam_motion[:, 0], mode='lines', name='x'))\n",
        "  # fig.add_trace(go.Scatter(x=np.linspace(0, A.shape[0]/2, num=1+A.shape[0]//2), y=cam_motion[:, 1], mode='lines', name='y'))\n",
        "  # fig.add_trace(go.Scatter(x=np.linspace(0, A.shape[0]/2, num=1+A.shape[0]//2), y=cam_motion[:, 2], mode='lines', name='z'))\n",
        "  fig.show()\n",
        "\n",
        "A, X = affineSFM(track_x, track_y)\n",
        "print(A.shape, X.shape)\n",
        "plot_structure(X)\n",
        "plot_camera_motion(A)"
      ]
    },
    {
      "cell_type": "markdown",
      "metadata": {
        "id": "wZgGQcmAJhVQ"
      },
      "source": [
        "### Results\n",
        "\n",
        "*   The predicted 3D locations of the tracked points for 3 different viewpoints.\n",
        "*   The predicted 3D path of the camera."
      ]
    },
    {
      "cell_type": "markdown",
      "metadata": {
        "id": "vtJ465J8KYid"
      },
      "source": [
        "\n",
        "- 3D Structure Visualizations:\n",
        "  - <img src=\"https://drive.google.com/uc?id=1j9_aviLnIdeEPcDrt5CcmdNIi-gBj5KD\"/>\n",
        "  - <img src=\"https://drive.google.com/uc?id=1_3sXKJTJswiq4-jo1E2vkPIEP8gXakA0\"/>\n",
        "  - <img src=\"https://drive.google.com/uc?id=1En4G3LZ1NR61qXeWdZegyK2Hyf4t22zq\"/>\n",
        "  - <img src=\"https://drive.google.com/uc?id=185GUlxabZtI2lKH9OwXO5yBjLk1n73rx\"/>\n",
        "\n",
        "- Camera motion:\n",
        "  - 3D plot:\n",
        "    - <img src=\"https://drive.google.com/uc?id=1EtwMMDKceDsgh3S13ZKYWgEff3wl_HnF\"/>\n",
        "  - Separate 2D plots (x, y & z in order):\n",
        "    - <img src=\"https://drive.google.com/uc?id=1BQ-b7zp9qM3w82oCNYbn3ya00Ox83EUJ\"/>\n",
        "    - <img src=\"https://drive.google.com/uc?id=1aqmDNXmDPBdsbwVTdLrwFaJShvOAEvys\"/>\n",
        "    - <img src=\"https://drive.google.com/uc?id=1oUZw8USY99joCoIB4prjl9CbkvW1YZAk\"/>\n",
        "    \n",
        "<!--     \n",
        "\n",
        "*   Reference: \n",
        "    - Tomasi and Kanade. Shape and Motion from Image Streams under Orthography: a Factorization Method. 1992 -->"
      ]
    }
  ]
}